{
 "metadata": {
  "name": "",
  "signature": "sha256:738d2aead367a9c0196726ab52e61379856800b3481521452c27b727b60e4a8c"
 },
 "nbformat": 3,
 "nbformat_minor": 0,
 "worksheets": [
  {
   "cells": [
    {
     "cell_type": "code",
     "collapsed": false,
     "input": [
      "from partSix import *"
     ],
     "language": "python",
     "metadata": {},
     "outputs": [],
     "prompt_number": 1
    },
    {
     "cell_type": "code",
     "collapsed": false,
     "input": [
      "NN = Neural_Network()"
     ],
     "language": "python",
     "metadata": {},
     "outputs": [],
     "prompt_number": 2
    },
    {
     "cell_type": "code",
     "collapsed": false,
     "input": [
      "# X = (hours sleeping, hours studying), y = score on test\n",
      "X = np.array(([3,5], [5,1], [10,2], [6,1.5]), dtype=float)\n",
      "y = np.array(([75], [82], [93], [70]), dtype=float)"
     ],
     "language": "python",
     "metadata": {},
     "outputs": [],
     "prompt_number": 3
    },
    {
     "cell_type": "code",
     "collapsed": false,
     "input": [
      "#Plot projections of our new data:\n",
      "fig = figure(0, (8,3))\n",
      "\n",
      "subplot(1,2,1)\n",
      "scatter(X[:,0], y)\n",
      "grid(1)\n",
      "xlabel('Hours Sleeping')\n",
      "ylabel('Test Score')\n",
      "\n",
      "subplot(1,2,2)\n",
      "scatter(X[:,1], y)\n",
      "grid(1)\n",
      "xlabel('Hours Studying')\n",
      "ylabel('Test Score')"
     ],
     "language": "python",
     "metadata": {},
     "outputs": [
      {
       "metadata": {},
       "output_type": "pyout",
       "prompt_number": 4,
       "text": [
        "<matplotlib.text.Text at 0x1135b9090>"
       ]
      },
      {
       "metadata": {},
       "output_type": "display_data",
       "png": "[encoded data removed]",
       "text": [
        "<matplotlib.figure.Figure at 0x1133f34d0>"
       ]
      }
     ],
     "prompt_number": 4
    },
    {
     "cell_type": "code",
     "collapsed": false,
     "input": [
      "#Normalize\n",
      "X = X/np.amax(X, axis = 0)\n",
      "y = y/100 #Max test score is 100"
     ],
     "language": "python",
     "metadata": {},
     "outputs": [],
     "prompt_number": 5
    },
    {
     "cell_type": "code",
     "collapsed": false,
     "input": [
      "#Train network with new data:\n",
      "T = trainer(NN)\n",
      "T.train(X,y)"
     ],
     "language": "python",
     "metadata": {},
     "outputs": [
      {
       "output_type": "stream",
       "stream": "stdout",
       "text": [
        "Warning: Maximum number of iterations has been exceeded.\n",
        "         Current function value: 0.000000\n",
        "         Iterations: 200\n",
        "         Function evaluations: 230\n",
        "         Gradient evaluations: 230\n"
       ]
      }
     ],
     "prompt_number": 6
    },
    {
     "cell_type": "code",
     "collapsed": false,
     "input": [
      "#Plot cost during training:\n",
      "plot(T.J)\n",
      "grid(1)\n",
      "xlabel('Iterations')\n",
      "ylabel('Cost')"
     ],
     "language": "python",
     "metadata": {},
     "outputs": [
      {
       "metadata": {},
       "output_type": "pyout",
       "prompt_number": 7,
       "text": [
        "<matplotlib.text.Text at 0x1135b9790>"
       ]
      },
      {
       "metadata": {},
       "output_type": "display_data",
       "png": "[encoded data removed]",
       "text": [
        "<matplotlib.figure.Figure at 0x1133ecb90>"
       ]
      }
     ],
     "prompt_number": 7
    },
    {
     "cell_type": "code",
     "collapsed": false,
     "input": [
      "#Test network for various combinations of sleep/study:\n",
      "hoursSleep = linspace(0, 10, 100)\n",
      "hoursStudy = linspace(0, 5, 100)\n",
      "\n",
      "#Normalize data (same way training data was normalized)\n",
      "hoursSleepNorm = hoursSleep/10.\n",
      "hoursStudyNorm = hoursStudy/5.\n",
      "\n",
      "#Create 2-d version of input for plotting\n",
      "a, b = meshgrid(hoursSleepNorm, hoursStudyNorm)\n",
      "\n",
      "#Join into a single input matrix:\n",
      "allInputs = np.zeros((a.size, 2))\n",
      "allInputs[:, 0] = a.ravel()\n",
      "allInputs[:, 1] = b.ravel()"
     ],
     "language": "python",
     "metadata": {},
     "outputs": [],
     "prompt_number": 8
    },
    {
     "cell_type": "code",
     "collapsed": false,
     "input": [
      "allOutputs = NN.forward(allInputs)"
     ],
     "language": "python",
     "metadata": {},
     "outputs": [],
     "prompt_number": 9
    },
    {
     "cell_type": "code",
     "collapsed": false,
     "input": [
      "#Contour Plot:\n",
      "yy = np.dot(hoursStudy.reshape(100,1), np.ones((1,100)))\n",
      "xx = np.dot(hoursSleep.reshape(100,1), np.ones((1,100))).T\n",
      "\n",
      "CS = contour(xx,yy,100*allOutputs.reshape(100, 100))\n",
      "clabel(CS, inline=1, fontsize=10)\n",
      "xlabel('Hours Sleep')\n",
      "ylabel('Hours Study')"
     ],
     "language": "python",
     "metadata": {},
     "outputs": [
      {
       "metadata": {},
       "output_type": "pyout",
       "prompt_number": 10,
       "text": [
        "<matplotlib.text.Text at 0x1136af850>"
       ]
      },
      {
       "metadata": {},
       "output_type": "display_data",
       "png": "[encoded data removed]",
       "text": [
        "<matplotlib.figure.Figure at 0x1136a6750>"
       ]
      }
     ],
     "prompt_number": 10
    },
    {
     "cell_type": "code",
     "collapsed": false,
     "input": [
      "#Training Data:\n",
      "trainX = np.array(([3,5], [5,1], [10,2], [6,1.5]), dtype=float)\n",
      "trainY = np.array(([75], [82], [93], [70]), dtype=float)\n",
      "\n",
      "#Testing Data:\n",
      "testX = np.array(([4, 5.5], [4.5,1], [9,2.5], [6, 2]), dtype=float)\n",
      "testY = np.array(([70], [89], [85], [75]), dtype=float)\n",
      "\n",
      "#Normalize:\n",
      "trainX = trainX/np.amax(trainX, axis=0)\n",
      "trainY = trainY/100 #Max test score is 100\n",
      "\n",
      "#Normalize:\n",
      "testX = testX/np.amax(testX, axis=0)\n",
      "testY = testY/100 #Max test score is 100"
     ],
     "language": "python",
     "metadata": {},
     "outputs": [],
     "prompt_number": 11
    },
    {
     "cell_type": "code",
     "collapsed": false,
     "input": [
      "#Modify trainer class to check testing error during training:\n",
      "class trainer(object):\n",
      "    def __init__(self, N):\n",
      "        #Make Local reference to network:\n",
      "        self.N = N\n",
      "        \n",
      "    def callbackF(self, params):\n",
      "        self.N.setParams(params)\n",
      "        self.J.append(self.N.costFunction(self.X, self.y))\n",
      "        self.testJ.append(self.N.costFunction(self.testX, self.testY))\n",
      "        \n",
      "    def costFunctionWrapper(self, params, X, y):\n",
      "        self.N.setParams(params)\n",
      "        cost = self.N.costFunction(X, y)\n",
      "        grad = self.N.computeGradients(X,y)\n",
      "        return cost, grad\n",
      "        \n",
      "    def train(self, trainX, trainY, testX, testY):\n",
      "        #Make an internal variable for the callback function:\n",
      "        self.X = trainX\n",
      "        self.y = trainY\n",
      "        \n",
      "        self.testX = testX\n",
      "        self.testY = testY\n",
      "\n",
      "        #Make empty list to store costs:\n",
      "        self.J = []\n",
      "        self.testJ = []\n",
      "        \n",
      "        params0 = self.N.getParams()\n",
      "\n",
      "        options = {'maxiter': 200, 'disp' : True}\n",
      "        _res = optimize.minimize(self.costFunctionWrapper, params0, jac=True, method='BFGS', \\\n",
      "                                 args=(trainX, trainY), options=options, callback=self.callbackF)\n",
      "\n",
      "        self.N.setParams(_res.x)\n",
      "        self.optimizationResults = _res"
     ],
     "language": "python",
     "metadata": {},
     "outputs": [],
     "prompt_number": 12
    },
    {
     "cell_type": "code",
     "collapsed": false,
     "input": [
      "#Train network with new data:\n",
      "NN = Neural_Network()"
     ],
     "language": "python",
     "metadata": {},
     "outputs": [],
     "prompt_number": 13
    },
    {
     "cell_type": "code",
     "collapsed": false,
     "input": [
      "T = trainer(NN)\n",
      "T.train(trainX, trainY, testX, testY)"
     ],
     "language": "python",
     "metadata": {},
     "outputs": [
      {
       "output_type": "stream",
       "stream": "stdout",
       "text": [
        "Optimization terminated successfully.\n",
        "         Current function value: 0.000000\n",
        "         Iterations: 127\n",
        "         Function evaluations: 145\n",
        "         Gradient evaluations: 145\n"
       ]
      }
     ],
     "prompt_number": 14
    },
    {
     "cell_type": "code",
     "collapsed": false,
     "input": [
      "#Plot costs during training:\n",
      "plot(T.J)\n",
      "plot(T.testJ)\n",
      "grid(1)\n",
      "xlabel('Iterations')\n",
      "ylabel('Cost')"
     ],
     "language": "python",
     "metadata": {},
     "outputs": [
      {
       "metadata": {},
       "output_type": "pyout",
       "prompt_number": 15,
       "text": [
        "<matplotlib.text.Text at 0x1148f6990>"
       ]
      },
      {
       "metadata": {},
       "output_type": "display_data",
       "png": "[encoded data removed]",
       "text": [
        "<matplotlib.figure.Figure at 0x1148f5fd0>"
       ]
      }
     ],
     "prompt_number": 15
    },
    {
     "cell_type": "code",
     "collapsed": false,
     "input": [
      "#Regularization Parameter:\n",
      "Lambda = 0.0001"
     ],
     "language": "python",
     "metadata": {},
     "outputs": [],
     "prompt_number": 16
    },
    {
     "cell_type": "code",
     "collapsed": false,
     "input": [
      "#Need to make changes to costFunction and costFunctionPrime\n",
      "def costFunction(self, X, y):\n",
      "    #Compute cost for given X,y, use weights already stored in class.\n",
      "    self.yHat = self.forward(X)\n",
      "    J = 0.5*sum((y-self.yHat)**2)/X.shape[0] + (self.Lambda/2)*(sum(self.W1**2)+sum(self.W2**2))\n",
      "    return J\n",
      "\n",
      "def costFunctionPrime(self, X, y):\n",
      "    #Compute derivative with respect to W and W2 for a given X and y:\n",
      "    self.yHat = self.forward(X)\n",
      "\n",
      "    delta3 = np.multiply(-(y-self.yHat), self.sigmoidPrime(self.z3))\n",
      "    #Add gradient of regularization term:\n",
      "    dJdW2 = np.dot(self.a2.T, delta3) + self.Lambda*self.W2\n",
      "\n",
      "    delta2 = np.dot(delta3, self.W2.T)*self.sigmoidPrime(self.z2)\n",
      "    #Add gradient of regularization term:\n",
      "    dJdW1 = np.dot(X.T, delta2) + self.Lambda*self.W1\n",
      "\n",
      "    return dJdW1, dJdW2"
     ],
     "language": "python",
     "metadata": {},
     "outputs": [],
     "prompt_number": 17
    },
    {
     "cell_type": "code",
     "collapsed": false,
     "input": [
      "#New complete class, with changes:\n",
      "class Neural_Network(object):\n",
      "    def __init__(self, Lambda=0):        \n",
      "        #Define Hyperparameters\n",
      "        self.inputLayerSize = 2\n",
      "        self.outputLayerSize = 1\n",
      "        self.hiddenLayerSize = 3\n",
      "        \n",
      "        #Weights (parameters)\n",
      "        self.W1 = np.random.randn(self.inputLayerSize,self.hiddenLayerSize)\n",
      "        self.W2 = np.random.randn(self.hiddenLayerSize,self.outputLayerSize)\n",
      "        \n",
      "        #Regularization Parameter:\n",
      "        self.Lambda = Lambda\n",
      "        \n",
      "    def forward(self, X):\n",
      "        #Propogate inputs though network\n",
      "        self.z2 = np.dot(X, self.W1)\n",
      "        self.a2 = self.sigmoid(self.z2)\n",
      "        self.z3 = np.dot(self.a2, self.W2)\n",
      "        yHat = self.sigmoid(self.z3) \n",
      "        return yHat\n",
      "        \n",
      "    def sigmoid(self, z):\n",
      "        #Apply sigmoid activation function to scalar, vector, or matrix\n",
      "        return 1/(1+np.exp(-z))\n",
      "    \n",
      "    def sigmoidPrime(self,z):\n",
      "        #Gradient of sigmoid\n",
      "        return np.exp(-z)/((1+np.exp(-z))**2)\n",
      "    \n",
      "    def costFunction(self, X, y):\n",
      "        #Compute cost for given X,y, use weights already stored in class.\n",
      "        self.yHat = self.forward(X)\n",
      "        J = 0.5*sum((y-self.yHat)**2)/X.shape[0] + (self.Lambda/2)*(sum(self.W1**2)+sum(self.W2**2))\n",
      "        return J\n",
      "        \n",
      "    def costFunctionPrime(self, X, y):\n",
      "        #Compute derivative with respect to W and W2 for a given X and y:\n",
      "        self.yHat = self.forward(X)\n",
      "        \n",
      "        delta3 = np.multiply(-(y-self.yHat), self.sigmoidPrime(self.z3))\n",
      "        #Add gradient of regularization term:\n",
      "        dJdW2 = np.dot(self.a2.T, delta3)/X.shape[0] + self.Lambda*self.W2\n",
      "        \n",
      "        delta2 = np.dot(delta3, self.W2.T)*self.sigmoidPrime(self.z2)\n",
      "        #Add gradient of regularization term:\n",
      "        dJdW1 = np.dot(X.T, delta2)/X.shape[0] + self.Lambda*self.W1\n",
      "        \n",
      "        return dJdW1, dJdW2\n",
      "    \n",
      "    #Helper functions for interacting with other methods/classes\n",
      "    def getParams(self):\n",
      "        #Get W1 and W2 Rolled into vector:\n",
      "        params = np.concatenate((self.W1.ravel(), self.W2.ravel()))\n",
      "        return params\n",
      "    \n",
      "    def setParams(self, params):\n",
      "        #Set W1 and W2 using single parameter vector:\n",
      "        W1_start = 0\n",
      "        W1_end = self.hiddenLayerSize*self.inputLayerSize\n",
      "        self.W1 = np.reshape(params[W1_start:W1_end], \\\n",
      "                             (self.inputLayerSize, self.hiddenLayerSize))\n",
      "        W2_end = W1_end + self.hiddenLayerSize*self.outputLayerSize\n",
      "        self.W2 = np.reshape(params[W1_end:W2_end], \\\n",
      "                             (self.hiddenLayerSize, self.outputLayerSize))\n",
      "        \n",
      "    def computeGradients(self, X, y):\n",
      "        dJdW1, dJdW2 = self.costFunctionPrime(X, y)\n",
      "        return np.concatenate((dJdW1.ravel(), dJdW2.ravel()))"
     ],
     "language": "python",
     "metadata": {},
     "outputs": [],
     "prompt_number": 18
    },
    {
     "cell_type": "code",
     "collapsed": false,
     "input": [
      "NN = Neural_Network(Lambda = 0.0001)"
     ],
     "language": "python",
     "metadata": {},
     "outputs": [],
     "prompt_number": 19
    },
    {
     "cell_type": "code",
     "collapsed": false,
     "input": [
      "#Make sure we didn't break anything, do numerical gradient checking:\n",
      "numgrad = computeNumericalGradient(NN, X, y)\n",
      "grad = NN.computeGradients(X, y)"
     ],
     "language": "python",
     "metadata": {},
     "outputs": [],
     "prompt_number": 20
    },
    {
     "cell_type": "code",
     "collapsed": false,
     "input": [
      "#Should be less than 1e-8:\n",
      "norm(grad-numgrad)/norm(grad+numgrad)"
     ],
     "language": "python",
     "metadata": {},
     "outputs": [
      {
       "metadata": {},
       "output_type": "pyout",
       "prompt_number": 21,
       "text": [
        "1.9066062157737719e-10"
       ]
      }
     ],
     "prompt_number": 21
    },
    {
     "cell_type": "code",
     "collapsed": false,
     "input": [
      "T = trainer(NN)"
     ],
     "language": "python",
     "metadata": {},
     "outputs": [],
     "prompt_number": 22
    },
    {
     "cell_type": "code",
     "collapsed": false,
     "input": [
      "T.train(trainX, trainY, testX, testY)"
     ],
     "language": "python",
     "metadata": {},
     "outputs": [
      {
       "output_type": "stream",
       "stream": "stdout",
       "text": [
        "Optimization terminated successfully.\n",
        "         Current function value: 0.002618\n",
        "         Iterations: 101\n",
        "         Function evaluations: 107\n",
        "         Gradient evaluations: 107\n"
       ]
      }
     ],
     "prompt_number": 23
    },
    {
     "cell_type": "code",
     "collapsed": false,
     "input": [
      "#Visualize Costs during training:\n",
      "plot(T.J)\n",
      "plot(T.testJ)\n",
      "grid(1)\n",
      "xlabel('Iterations')\n",
      "ylabel('Costs')\n",
      "legend(['Training', 'Testing'])"
     ],
     "language": "python",
     "metadata": {},
     "outputs": [
      {
       "metadata": {},
       "output_type": "pyout",
       "prompt_number": 25,
       "text": [
        "<matplotlib.legend.Legend at 0x114a57cd0>"
       ]
      },
      {
       "metadata": {},
       "output_type": "display_data",
       "png": "[encoded data removed]",
       "text": [
        "<matplotlib.figure.Figure at 0x113600c10>"
       ]
      }
     ],
     "prompt_number": 25
    },
    {
     "cell_type": "code",
     "collapsed": false,
     "input": [
      "allOutputs = NN.forward(allInputs)\n",
      "\n",
      "#Contour Plot:\n",
      "yy = np.dot(hoursStudy.reshape(100,1), np.ones((1,100)))\n",
      "xx = np.dot(hoursSleep.reshape(100,1), np.ones((1,100))).T\n",
      "\n",
      "CS = contour(xx,yy,100*allOutputs.reshape(100, 100))\n",
      "clabel(CS, inline=1, fontsize=10)\n",
      "xlabel('Hours Sleep')\n",
      "ylabel('Hours Study')"
     ],
     "language": "python",
     "metadata": {},
     "outputs": [
      {
       "metadata": {},
       "output_type": "pyout",
       "prompt_number": 26,
       "text": [
        "<matplotlib.text.Text at 0x113779a50>"
       ]
      },
      {
       "metadata": {},
       "output_type": "display_data",
       "png": "[encoded data removed]",
       "text": [
        "<matplotlib.figure.Figure at 0x114a3a490>"
       ]
      }
     ],
     "prompt_number": 26
    },
    {
     "cell_type": "code",
     "collapsed": false,
     "input": [],
     "language": "python",
     "metadata": {},
     "outputs": []
    }
   ],
   "metadata": {}
  }
 ]
}