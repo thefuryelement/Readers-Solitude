{
 "cells": [
  {
   "cell_type": "markdown",
   "metadata": {},
   "source": [
    "![Big Data University](https://ibm.box.com/shared/static/jvcqp2iy2jlx2b32rmzdt0tx8lvxgzkp.png)\n",
    "# <center> Sequence classification with LSTM on MNIST</center>\n",
    "<div class=\"alert alert-block alert-info\">\n",
    "<font size = 3><strong>In this notebook you will learn the How to use TensorFlow for create a Recurrent Neural Network</strong></font>\n",
    "<br>    \n",
    "- <a href=\"#intro\">Introduction</a>\n",
    "<br>\n",
    "- <p><a href=\"#arch\">Architectures</a></p>\n",
    "    - <a href=\"#lstm\">Long Short-Term Memory Model (LSTM)</a>\n",
    "\n",
    "- <p><a href=\"#build\">Building a LSTM with TensorFlow</a></p>\n",
    "</div>\n",
    "----------------"
   ]
  },
  {
   "cell_type": "markdown",
   "metadata": {},
   "source": [
    "## <a id=\"intro\"/> Introduction\n",
    "Recurrent Neural Networks are Deep Learning models with simple structures and a feedback mechanism builted-in, or in different words, the output of a layer is added to the next input and fed back to the same layer.\n",
    "\n",
    "The Recurrent Neural Network is a specialized type of Neural Network that solves the issue of **maintaining context for Sequential data** -- such as Weather data, Stocks, Genes, etc. At each iterative step, the processing unit takes in an input and the current state of the network, and produces an output and a new state that is **re-fed into the network**.\n",
    "\n",
    "However, **this model has some problems**. It's very computationally expensive to maintain the state for a large amount of units, even more so over a long amount of time. Additionally, Recurrent Networks are very sensitive to changes in their parameters. As such, they are prone to different problems with their Gradient Descent optimizer -- they either grow exponentially (Exploding Gradient) or drop down to near zero and stabilize (Vanishing Gradient), both problems that greatly harm a model's learning capability.\n",
    "\n",
    "To solve these problems, Hochreiter and Schmidhuber published a paper in 1997 describing a way to keep information over long periods of time and additionally solve the oversensitivity to parameter changes, i.e., make backpropagating through the Recurrent Networks more viable.\n",
    "\n",
    "(In this notebook, we will cover only LSTM and its implementation using TensorFlow)"
   ]
  },
  {
   "cell_type": "markdown",
   "metadata": {},
   "source": [
    "## <a id=\"arch\"/>Architectures\n",
    "- Fully Recurrent Network\n",
    "- Recursive Neural Networks\n",
    "- Hopfield Networks\n",
    "- Elman Networks and Jordan Networks\n",
    "- Echo State Networks\n",
    "- Neural history compressor\n",
    "- **The Long Short-Term Memory Model (LSTM)**\n",
    "\n",
    "<img src=\"https://ibm.box.com/shared/static/v7p90neiaqghmpwawpiecmz9n7080m59.png\" alt=\"Representation of a Recurrent Neural Network\" width=80%>"
   ]
  },
  {
   "cell_type": "markdown",
   "metadata": {},
   "source": [
    "##  <a id=\"lstm\"/>LSTM\n",
    "LSTM is one of the proposed solutions or upgrades to the **Recurrent Neural Network model**. "
   ]
  },
  {
   "cell_type": "markdown",
   "metadata": {},
   "source": [
    "It is an abstraction of how computer memory works. It is \"bundled\" with whatever processing unit is implemented in the Recurrent Network, although outside of its flow, and is responsible for keeping, reading, and outputting information for the model. The way it works is simple: you have a linear unit, which is the information cell itself, surrounded by three logistic gates responsible for maintaining the data. One gate is for inputting data into the information cell, one is for outputting data from the input cell, and the last one is to keep or forget data depending on the needs of the network.\n",
    "\n",
    "Thanks to that, it not only solves the problem of keeping states, because the network can choose to forget data whenever information is not needed, it also solves the gradient problems, since the Logistic Gates have a very nice derivative.\n",
    "\n",
    "### Long Short-Term Memory Architecture\n",
    "\n",
    "As seen before, the Long Short-Term Memory is composed of a linear unit surrounded by three logistic gates. The name for these gates vary from place to place, but the most usual names for them are:\n",
    "- the \"Input\" or \"Write\" Gate, which handles the writing of data into the information cell, \n",
    "- the \"Output\" or \"Read\" Gate, which handles the sending of data back onto the Recurrent Network, and \n",
    "- the \"Keep\" or \"Forget\" Gate, which handles the maintaining and modification of the data stored in the information cell.\n",
    "\n",
    "<img src=https://ibm.box.com/shared/static/zx10duv5egw0baw6gh2hzsgr8ex45gsg.png width=\"720\"/>\n",
    "<center>*Diagram of the Long Short-Term Memory Unit*</center>\n",
    "\n",
    "The three gates are the centerpiece of the LSTM unit. The gates, when activated by the network, perform their respective functions. For example, the Input Gate will write whatever data it is passed onto the information cell, the Output Gate will return whatever data is in the information cell, and the Keep Gate will maintain the data in the information cell. These gates are analog and multiplicative, and as such, can modify the data based on the signal they are sent.\n",
    "\n",
    "---"
   ]
  },
  {
   "cell_type": "markdown",
   "metadata": {},
   "source": [
    "## <a id=\"build\"/> Building a LSTM with TensorFlow"
   ]
  },
  {
   "cell_type": "markdown",
   "metadata": {},
   "source": [
    "#### LSTM for Classification\n",
    "Although RNN is mostly used to model sequences and predict sequential data, we can still classify images using a LSTM network. If we consider every image row as a sequence of pixels, we can feed a LSTM network for classification. Lets use the famous MNIST dataset here. Because MNIST image shape is 28*28px, we will then handle 28 sequences of 28 steps for every sample."
   ]
  },
  {
   "cell_type": "markdown",
   "metadata": {},
   "source": [
    "#### MNIST Dataset\n",
    "\n",
    "Tensor flow already provides **helper functions** to download and process the MNIST dataset."
   ]
  },
  {
   "cell_type": "code",
   "execution_count": 1,
   "metadata": {
    "collapsed": true
   },
   "outputs": [],
   "source": [
    "%matplotlib inline\n",
    "import warnings\n",
    "warnings.filterwarnings('ignore')\n",
    "\n",
    "import numpy as np\n",
    "import matplotlib.pyplot as plt\n",
    "\n",
    "import tensorflow as tf\n"
   ]
  },
  {
   "cell_type": "code",
   "execution_count": 2,
   "metadata": {},
   "outputs": [
    {
     "name": "stdout",
     "output_type": "stream",
     "text": [
      "Extracting ./train-images-idx3-ubyte.gz\n",
      "Extracting ./train-labels-idx1-ubyte.gz\n",
      "Extracting ./t10k-images-idx3-ubyte.gz\n",
      "Extracting ./t10k-labels-idx1-ubyte.gz\n"
     ]
    }
   ],
   "source": [
    "from tensorflow.examples.tutorials.mnist import input_data\n",
    "mnist = input_data.read_data_sets(\".\", one_hot=True)"
   ]
  },
  {
   "cell_type": "markdown",
   "metadata": {},
   "source": [
    "The function **`input_data.read_data_sets(...)`** loads the entire dataset and returns an object **`tensorflow.contrib.learn.python.learn.datasets.mnist.DataSets`**\n",
    "\n",
    "\n",
    "The argument **(`one_hot=False`)** creates the label arrays as 10-dimensional binary vectors (only zeros and ones), in which the index cell for the number one, is the class label."
   ]
  },
  {
   "cell_type": "code",
   "execution_count": 3,
   "metadata": {},
   "outputs": [
    {
     "name": "stdout",
     "output_type": "stream",
     "text": [
      "Train Images:  (55000, 784)\n",
      "Train Labels   (55000, 10)\n",
      "\n",
      "Test Images:   (10000, 784)\n",
      "Test Labels:   (10000, 10)\n"
     ]
    }
   ],
   "source": [
    "trainimgs = mnist.train.images\n",
    "trainlabels = mnist.train.labels\n",
    "testimgs = mnist.test.images\n",
    "testlabels = mnist.test.labels \n",
    "\n",
    "ntrain = trainimgs.shape[0]\n",
    "ntest = testimgs.shape[0]\n",
    "dim = trainimgs.shape[1]\n",
    "nclasses = trainlabels.shape[1]\n",
    "print \"Train Images: \", trainimgs.shape\n",
    "print \"Train Labels  \", trainlabels.shape\n",
    "print\n",
    "print \"Test Images:  \" , testimgs.shape\n",
    "print \"Test Labels:  \", testlabels.shape"
   ]
  },
  {
   "cell_type": "markdown",
   "metadata": {},
   "source": [
    "### Let's get one sample, just to understand the structure of MNIST dataset \n",
    "\n",
    "The next code snippet prints the **label vector** (one_hot format), **the class** and actual sample formatted as **image**:"
   ]
  },
  {
   "cell_type": "code",
   "execution_count": 4,
   "metadata": {},
   "outputs": [
    {
     "data": {
      "image/png": "[encoded data removed]",
      "text/plain": [
       "<matplotlib.figure.Figure at 0x115522990>"
      ]
     },
     "metadata": {},
     "output_type": "display_data"
    },
    {
     "name": "stdout",
     "output_type": "stream",
     "text": [
      "Sample: 100 - Class: [6] - Label Vector: [ 0.  0.  0.  0.  0.  0.  1.  0.  0.  0.] \n",
      "Sample: 101 - Class: [0] - Label Vector: [ 1.  0.  0.  0.  0.  0.  0.  0.  0.  0.] \n",
      "Sample: 102 - Class: [5] - Label Vector: [ 0.  0.  0.  0.  0.  1.  0.  0.  0.  0.] \n"
     ]
    }
   ],
   "source": [
    "samplesIdx = [100, 101, 102]  #<-- You can change these numbers here to see other samples\n",
    "\n",
    "from mpl_toolkits.mplot3d import Axes3D\n",
    "fig = plt.figure()\n",
    "\n",
    "ax1 = fig.add_subplot(121)\n",
    "ax1.imshow(testimgs[samplesIdx[0]].reshape([28,28]), cmap='gray')\n",
    "\n",
    "\n",
    "xx, yy = np.meshgrid(np.linspace(0,28,28), np.linspace(0,28,28))\n",
    "X =  xx ; Y =  yy\n",
    "Z =  100*np.ones(X.shape)\n",
    "\n",
    "img = testimgs[77].reshape([28,28])\n",
    "ax = fig.add_subplot(122, projection='3d')\n",
    "ax.set_zlim((0,200))\n",
    "\n",
    "\n",
    "offset=200\n",
    "for i in samplesIdx:\n",
    "    img = testimgs[i].reshape([28,28]).transpose()\n",
    "    ax.contourf(X, Y, img, 200, zdir='z', offset=offset, cmap=\"gray\")\n",
    "    offset -= 100\n",
    "\n",
    "    ax.set_xticks([])\n",
    "ax.set_yticks([])\n",
    "ax.set_zticks([])\n",
    "\n",
    "plt.show()\n",
    "\n",
    "\n",
    "for i in samplesIdx:\n",
    "    print \"Sample: {0} - Class: {1} - Label Vector: {2} \".format(i, np.nonzero(testlabels[i])[0], testlabels[i])\n",
    "\n"
   ]
  },
  {
   "cell_type": "markdown",
   "metadata": {},
   "source": [
    "---\n",
    "### Let's Understand the parameters, inputs and outputs\n",
    "\n",
    "We will treat the MNIST image $\\in \\mathcal{R}^{28 \\times 28}$ as $28$ sequences of a vector $\\mathbf{x} \\in \\mathcal{R}^{28}$. \n",
    "\n",
    "#### Our simple RNN consists of  \n",
    "1. One input layer which converts a $28*28$ dimensional input to an $128$ dimensional hidden layer, \n",
    "2. One intermediate recurrent neural network (LSTM) \n",
    "3. One output layer which converts an $128$ dimensional output of the LSTM to $10$ dimensional output indicating a class label. "
   ]
  },
  {
   "cell_type": "code",
   "execution_count": 5,
   "metadata": {
    "collapsed": true
   },
   "outputs": [],
   "source": [
    "n_input = 28 # MNIST data input (img shape: 28*28)\n",
    "n_steps = 28 # timesteps\n",
    "n_hidden = 128 # hidden layer num of features\n",
    "n_classes = 10 # MNIST total classes (0-9 digits)\n",
    "\n",
    "\n",
    "learning_rate = 0.001\n",
    "training_iters = 100000\n",
    "batch_size = 100\n",
    "display_step = 10"
   ]
  },
  {
   "cell_type": "markdown",
   "metadata": {},
   "source": [
    "#### Construct a Recurrent Neural Network"
   ]
  },
  {
   "cell_type": "markdown",
   "metadata": {},
   "source": [
    "The input should be a Tensor of shape: [batch_size, time_steps, input_dimension], but in our case it would be (?, 28, 28)"
   ]
  },
  {
   "cell_type": "code",
   "execution_count": 6,
   "metadata": {
    "collapsed": true
   },
   "outputs": [],
   "source": [
    "x = tf.placeholder(dtype=\"float\", shape=[None, n_steps, n_input], name=\"x\") # Current data input shape: (batch_size, n_steps, n_input) [100x28x28]\n",
    "y = tf.placeholder(dtype=\"float\", shape=[None, n_classes], name=\"y\")"
   ]
  },
  {
   "cell_type": "markdown",
   "metadata": {},
   "source": [
    "Lets create the weight and biases for the read out layer"
   ]
  },
  {
   "cell_type": "code",
   "execution_count": 7,
   "metadata": {
    "collapsed": true
   },
   "outputs": [],
   "source": [
    "weights = {\n",
    "    'out': tf.Variable(tf.random_normal([n_hidden, n_classes]))\n",
    "}\n",
    "biases = {\n",
    "    'out': tf.Variable(tf.random_normal([n_classes]))\n",
    "}"
   ]
  },
  {
   "cell_type": "markdown",
   "metadata": {},
   "source": [
    "Lets define a lstm cell with tensorflow"
   ]
  },
  {
   "cell_type": "code",
   "execution_count": 8,
   "metadata": {
    "collapsed": true
   },
   "outputs": [],
   "source": [
    "lstm_cell = tf.contrib.rnn.BasicLSTMCell(n_hidden, forget_bias=1.0)"
   ]
  },
  {
   "cell_type": "markdown",
   "metadata": {},
   "source": [
    "__dynamic_rnn__ creates a recurrent neural network specified from __lstm_cell__:"
   ]
  },
  {
   "cell_type": "code",
   "execution_count": 9,
   "metadata": {
    "collapsed": true
   },
   "outputs": [],
   "source": [
    "outputs, states = tf.nn.dynamic_rnn(lstm_cell, inputs=x, dtype=tf.float32)"
   ]
  },
  {
   "cell_type": "markdown",
   "metadata": {},
   "source": [
    "The output of the rnn would be a [100x28x128] matrix. we use the linear activation to map it to a [?x10 matrix]"
   ]
  },
  {
   "cell_type": "code",
   "execution_count": 10,
   "metadata": {
    "collapsed": true
   },
   "outputs": [],
   "source": [
    "output = tf.reshape(tf.split(outputs, 28, axis=1, num=None, name='split')[-1],[-1,128])\n",
    "pred = tf.matmul(output, weights['out']) + biases['out']"
   ]
  },
  {
   "cell_type": "markdown",
   "metadata": {},
   "source": [
    "__labels__ and __logits__ should be tensors of shape [100x10], lets check it out:"
   ]
  },
  {
   "cell_type": "code",
   "execution_count": 13,
   "metadata": {},
   "outputs": [
    {
     "data": {
      "text/plain": [
       "<tf.Tensor 'add:0' shape=(?, 10) dtype=float32>"
      ]
     },
     "execution_count": 13,
     "metadata": {},
     "output_type": "execute_result"
    }
   ],
   "source": [
    "pred"
   ]
  },
  {
   "cell_type": "markdown",
   "metadata": {},
   "source": [
    "Now, we define the cost function and optimizer:"
   ]
  },
  {
   "cell_type": "code",
   "execution_count": 14,
   "metadata": {
    "collapsed": true
   },
   "outputs": [],
   "source": [
    "cost = tf.reduce_mean(tf.nn.softmax_cross_entropy_with_logits(labels=y, logits=pred ))\n",
    "optimizer = tf.train.AdamOptimizer(learning_rate=learning_rate).minimize(cost)"
   ]
  },
  {
   "cell_type": "markdown",
   "metadata": {},
   "source": [
    "Here we define the accuracy and evaluation methods to be used in the learning process:"
   ]
  },
  {
   "cell_type": "code",
   "execution_count": 15,
   "metadata": {
    "collapsed": true
   },
   "outputs": [],
   "source": [
    "correct_pred = tf.equal(tf.argmax(pred,1), tf.argmax(y,1))\n",
    "accuracy = tf.reduce_mean(tf.cast(correct_pred, tf.float32))"
   ]
  },
  {
   "cell_type": "markdown",
   "metadata": {},
   "source": [
    "Just recall that we will treat the MNIST image $\\in \\mathcal{R}^{28 \\times 28}$ as $28$ sequences of a vector $\\mathbf{x} \\in \\mathcal{R}^{28}$. "
   ]
  },
  {
   "cell_type": "code",
   "execution_count": 16,
   "metadata": {},
   "outputs": [
    {
     "name": "stdout",
     "output_type": "stream",
     "text": [
      "Iter 1000, Minibatch Loss= 1.862552, Training Accuracy= 0.31000\n",
      "Iter 2000, Minibatch Loss= 1.650728, Training Accuracy= 0.41000\n",
      "Iter 3000, Minibatch Loss= 1.153341, Training Accuracy= 0.66000\n",
      "Iter 4000, Minibatch Loss= 1.077106, Training Accuracy= 0.65000\n",
      "Iter 5000, Minibatch Loss= 1.035731, Training Accuracy= 0.66000\n",
      "Iter 6000, Minibatch Loss= 0.926979, Training Accuracy= 0.71000\n",
      "Iter 7000, Minibatch Loss= 0.560958, Training Accuracy= 0.81000\n",
      "Iter 8000, Minibatch Loss= 0.841170, Training Accuracy= 0.73000\n",
      "Iter 9000, Minibatch Loss= 0.700860, Training Accuracy= 0.78000\n",
      "Iter 10000, Minibatch Loss= 0.613573, Training Accuracy= 0.82000\n",
      "Iter 11000, Minibatch Loss= 0.394312, Training Accuracy= 0.89000\n",
      "Iter 12000, Minibatch Loss= 0.269624, Training Accuracy= 0.93000\n",
      "Iter 13000, Minibatch Loss= 0.236361, Training Accuracy= 0.92000\n",
      "Iter 14000, Minibatch Loss= 0.353219, Training Accuracy= 0.89000\n",
      "Iter 15000, Minibatch Loss= 0.328590, Training Accuracy= 0.88000\n",
      "Iter 16000, Minibatch Loss= 0.373554, Training Accuracy= 0.87000\n",
      "Iter 17000, Minibatch Loss= 0.354069, Training Accuracy= 0.86000\n",
      "Iter 18000, Minibatch Loss= 0.213457, Training Accuracy= 0.92000\n",
      "Iter 19000, Minibatch Loss= 0.346702, Training Accuracy= 0.89000\n",
      "Iter 20000, Minibatch Loss= 0.195962, Training Accuracy= 0.90000\n",
      "Iter 21000, Minibatch Loss= 0.411174, Training Accuracy= 0.84000\n",
      "Iter 22000, Minibatch Loss= 0.264264, Training Accuracy= 0.90000\n",
      "Iter 23000, Minibatch Loss= 0.281786, Training Accuracy= 0.89000\n",
      "Iter 24000, Minibatch Loss= 0.437205, Training Accuracy= 0.86000\n",
      "Iter 25000, Minibatch Loss= 0.230427, Training Accuracy= 0.93000\n",
      "Iter 26000, Minibatch Loss= 0.178121, Training Accuracy= 0.95000\n",
      "Iter 27000, Minibatch Loss= 0.224285, Training Accuracy= 0.93000\n",
      "Iter 28000, Minibatch Loss= 0.219034, Training Accuracy= 0.97000\n",
      "Iter 29000, Minibatch Loss= 0.438777, Training Accuracy= 0.87000\n",
      "Iter 30000, Minibatch Loss= 0.421099, Training Accuracy= 0.90000\n",
      "Iter 31000, Minibatch Loss= 0.182418, Training Accuracy= 0.94000\n",
      "Iter 32000, Minibatch Loss= 0.241251, Training Accuracy= 0.92000\n",
      "Iter 33000, Minibatch Loss= 0.115460, Training Accuracy= 0.96000\n",
      "Iter 34000, Minibatch Loss= 0.182184, Training Accuracy= 0.95000\n",
      "Iter 35000, Minibatch Loss= 0.185727, Training Accuracy= 0.92000\n",
      "Iter 36000, Minibatch Loss= 0.121973, Training Accuracy= 0.95000\n",
      "Iter 37000, Minibatch Loss= 0.279088, Training Accuracy= 0.93000\n",
      "Iter 38000, Minibatch Loss= 0.219089, Training Accuracy= 0.92000\n",
      "Iter 39000, Minibatch Loss= 0.149365, Training Accuracy= 0.96000\n",
      "Iter 40000, Minibatch Loss= 0.117735, Training Accuracy= 0.94000\n",
      "Iter 41000, Minibatch Loss= 0.281527, Training Accuracy= 0.90000\n",
      "Iter 42000, Minibatch Loss= 0.209273, Training Accuracy= 0.98000\n",
      "Iter 43000, Minibatch Loss= 0.111538, Training Accuracy= 0.97000\n",
      "Iter 44000, Minibatch Loss= 0.148438, Training Accuracy= 0.93000\n",
      "Iter 45000, Minibatch Loss= 0.273633, Training Accuracy= 0.93000\n",
      "Iter 46000, Minibatch Loss= 0.205813, Training Accuracy= 0.93000\n",
      "Iter 47000, Minibatch Loss= 0.115635, Training Accuracy= 0.96000\n",
      "Iter 48000, Minibatch Loss= 0.073022, Training Accuracy= 0.98000\n",
      "Iter 49000, Minibatch Loss= 0.169398, Training Accuracy= 0.95000\n",
      "Iter 50000, Minibatch Loss= 0.150070, Training Accuracy= 0.95000\n",
      "Iter 51000, Minibatch Loss= 0.078659, Training Accuracy= 0.97000\n",
      "Iter 52000, Minibatch Loss= 0.063444, Training Accuracy= 0.98000\n",
      "Iter 53000, Minibatch Loss= 0.148494, Training Accuracy= 0.95000\n",
      "Iter 54000, Minibatch Loss= 0.062953, Training Accuracy= 0.99000\n",
      "Iter 55000, Minibatch Loss= 0.049891, Training Accuracy= 1.00000\n",
      "Iter 56000, Minibatch Loss= 0.091937, Training Accuracy= 0.97000\n",
      "Iter 57000, Minibatch Loss= 0.257082, Training Accuracy= 0.92000\n",
      "Iter 58000, Minibatch Loss= 0.061131, Training Accuracy= 0.99000\n",
      "Iter 59000, Minibatch Loss= 0.070404, Training Accuracy= 0.98000\n",
      "Iter 60000, Minibatch Loss= 0.128626, Training Accuracy= 0.96000\n",
      "Iter 61000, Minibatch Loss= 0.215072, Training Accuracy= 0.94000\n",
      "Iter 62000, Minibatch Loss= 0.200847, Training Accuracy= 0.94000\n",
      "Iter 63000, Minibatch Loss= 0.082443, Training Accuracy= 0.97000\n",
      "Iter 64000, Minibatch Loss= 0.096185, Training Accuracy= 0.97000\n",
      "Iter 65000, Minibatch Loss= 0.104622, Training Accuracy= 0.96000\n",
      "Iter 66000, Minibatch Loss= 0.082974, Training Accuracy= 0.98000\n",
      "Iter 67000, Minibatch Loss= 0.112266, Training Accuracy= 0.96000\n",
      "Iter 68000, Minibatch Loss= 0.107553, Training Accuracy= 0.98000\n",
      "Iter 69000, Minibatch Loss= 0.037745, Training Accuracy= 1.00000\n",
      "Iter 70000, Minibatch Loss= 0.056981, Training Accuracy= 0.96000\n",
      "Iter 71000, Minibatch Loss= 0.123760, Training Accuracy= 0.96000\n",
      "Iter 72000, Minibatch Loss= 0.050459, Training Accuracy= 0.99000\n",
      "Iter 73000, Minibatch Loss= 0.106084, Training Accuracy= 0.98000\n",
      "Iter 74000, Minibatch Loss= 0.154756, Training Accuracy= 0.96000\n",
      "Iter 75000, Minibatch Loss= 0.111374, Training Accuracy= 0.95000\n",
      "Iter 76000, Minibatch Loss= 0.082636, Training Accuracy= 0.97000\n",
      "Iter 77000, Minibatch Loss= 0.039498, Training Accuracy= 0.99000\n",
      "Iter 78000, Minibatch Loss= 0.121002, Training Accuracy= 0.97000\n",
      "Iter 79000, Minibatch Loss= 0.078736, Training Accuracy= 0.98000\n",
      "Iter 80000, Minibatch Loss= 0.046156, Training Accuracy= 0.97000\n",
      "Iter 81000, Minibatch Loss= 0.072696, Training Accuracy= 0.99000\n",
      "Iter 82000, Minibatch Loss= 0.039800, Training Accuracy= 0.99000\n",
      "Iter 83000, Minibatch Loss= 0.144095, Training Accuracy= 0.97000\n",
      "Iter 84000, Minibatch Loss= 0.066153, Training Accuracy= 0.98000\n",
      "Iter 85000, Minibatch Loss= 0.124993, Training Accuracy= 0.96000\n",
      "Iter 86000, Minibatch Loss= 0.048021, Training Accuracy= 0.99000\n",
      "Iter 87000, Minibatch Loss= 0.034238, Training Accuracy= 1.00000\n",
      "Iter 88000, Minibatch Loss= 0.080688, Training Accuracy= 0.99000\n",
      "Iter 89000, Minibatch Loss= 0.166832, Training Accuracy= 0.95000\n",
      "Iter 90000, Minibatch Loss= 0.047859, Training Accuracy= 0.99000\n",
      "Iter 91000, Minibatch Loss= 0.083528, Training Accuracy= 0.98000\n",
      "Iter 92000, Minibatch Loss= 0.149686, Training Accuracy= 0.95000\n",
      "Iter 93000, Minibatch Loss= 0.103366, Training Accuracy= 0.94000\n",
      "Iter 94000, Minibatch Loss= 0.067120, Training Accuracy= 0.98000\n",
      "Iter 95000, Minibatch Loss= 0.086576, Training Accuracy= 0.98000\n",
      "Iter 96000, Minibatch Loss= 0.038256, Training Accuracy= 1.00000\n",
      "Iter 97000, Minibatch Loss= 0.107564, Training Accuracy= 0.96000\n",
      "Iter 98000, Minibatch Loss= 0.115711, Training Accuracy= 0.95000\n",
      "Iter 99000, Minibatch Loss= 0.051282, Training Accuracy= 0.99000\n",
      "Optimization Finished!\n",
      "('Testing Accuracy:', 0.953125)\n"
     ]
    }
   ],
   "source": [
    "init = tf.global_variables_initializer()\n",
    "\n",
    "with tf.Session() as sess:\n",
    "    sess.run(init)\n",
    "    step = 1\n",
    "    # Keep training until reach max iterations\n",
    "    while step * batch_size < training_iters:\n",
    "\n",
    "        # We will read a batch of 100 images [100 x 784] as batch_x\n",
    "        # batch_y is a matrix of [100x10]\n",
    "        batch_x, batch_y = mnist.train.next_batch(batch_size)\n",
    "        \n",
    "        # We consider each row of the image as one sequence\n",
    "        # Reshape data to get 28 seq of 28 elements, so that, batxh_x is [100x28x28]\n",
    "        batch_x = batch_x.reshape((batch_size, n_steps, n_input))\n",
    "    \n",
    "\n",
    "        # Run optimization op (backprop)\n",
    "        sess.run(optimizer, feed_dict={x: batch_x, y: batch_y})\n",
    "        \n",
    "        \n",
    "        if step % display_step == 0:\n",
    "            # Calculate batch accuracy\n",
    "            acc = sess.run(accuracy, feed_dict={x: batch_x, y: batch_y})\n",
    "            # Calculate batch loss\n",
    "            loss = sess.run(cost, feed_dict={x: batch_x, y: batch_y})\n",
    "            print(\"Iter \" + str(step*batch_size) + \", Minibatch Loss= \" + \\\n",
    "                  \"{:.6f}\".format(loss) + \", Training Accuracy= \" + \\\n",
    "                  \"{:.5f}\".format(acc))\n",
    "        step += 1\n",
    "    print(\"Optimization Finished!\")\n",
    "\n",
    "    # Calculate accuracy for 128 mnist test images\n",
    "    test_len = 128\n",
    "    test_data = mnist.test.images[:test_len].reshape((-1, n_steps, n_input))\n",
    "    test_label = mnist.test.labels[:test_len]\n",
    "    print(\"Testing Accuracy:\", \\\n",
    "        sess.run(accuracy, feed_dict={x: test_data, y: test_label}))"
   ]
  },
  {
   "cell_type": "code",
   "execution_count": null,
   "metadata": {
    "collapsed": true
   },
   "outputs": [],
   "source": [
    "sess.close()"
   ]
  },
  {
   "cell_type": "markdown",
   "metadata": {
    "collapsed": true
   },
   "source": [
    "Created by <a href=\"https://br.linkedin.com/in/walter-gomes-de-amorim-junior-624726121\">Walter Gomes de Amorim Junior</a> ,  <a href = \"https://linkedin.com/in/saeedaghabozorgi\"> Saeed Aghabozorgi </a></h4>  \n",
    "\n"
   ]
  },
  {
   "cell_type": "code",
   "execution_count": null,
   "metadata": {
    "collapsed": true
   },
   "outputs": [],
   "source": []
  }
 ],
 "metadata": {
  "anaconda-cloud": {},
  "kernelspec": {
   "display_name": "Python 3",
   "language": "python",
   "name": "python3"
  },
  "language_info": {
   "codemirror_mode": {
    "name": "ipython",
    "version": 3
   },
   "file_extension": ".py",
   "mimetype": "text/x-python",
   "name": "python",
   "nbconvert_exporter": "python",
   "pygments_lexer": "ipython3",
   "version": "3.6.1"
  },
  "widgets": {
   "state": {},
   "version": "1.1.2"
  }
 },
 "nbformat": 4,
 "nbformat_minor": 1
}
